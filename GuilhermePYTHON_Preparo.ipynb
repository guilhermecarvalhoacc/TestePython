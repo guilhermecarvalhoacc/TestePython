{
 "cells": [
  {
   "cell_type": "markdown",
   "metadata": {},
   "source": [
    "Questão 1 (Algoritmo para dizer quantidade de  numeros pares)"
   ]
  },
  {
   "cell_type": "code",
   "execution_count": 62,
   "metadata": {},
   "outputs": [],
   "source": [
    "import numpy as np"
   ]
  },
  {
   "cell_type": "code",
   "execution_count": 63,
   "metadata": {},
   "outputs": [],
   "source": [
    "lista = np.arange(1,5000001)"
   ]
  },
  {
   "cell_type": "code",
   "execution_count": 65,
   "metadata": {},
   "outputs": [],
   "source": [
    "contador = 0 \n",
    "resultados = []\n",
    "for i in range(1,len(lista)+1):\n",
    "    if (i % 2) == 0 and (i % 49) == 0 and (i % 37) == 0:\n",
    "        resultados.append(i)\n",
    "        contador +=1\n",
    "        "
   ]
  },
  {
   "cell_type": "code",
   "execution_count": null,
   "metadata": {},
   "outputs": [],
   "source": []
  },
  {
   "cell_type": "markdown",
   "metadata": {},
   "source": [
    "Questão 2 "
   ]
  },
  {
   "cell_type": "code",
   "execution_count": 66,
   "metadata": {},
   "outputs": [],
   "source": [
    "import math \n",
    "vetor = [0]\n",
    "#o zero eh café com leite\n",
    "for i in range(1,10):\n",
    "    if (i % 2) == 0:\n",
    "        vetor.append(3**i + 7*(math.factorial(i)))\n",
    "    else:\n",
    "        vetor.append(2**i + 4*math.log(i))\n",
    "    "
   ]
  },
  {
   "cell_type": "code",
   "execution_count": 50,
   "metadata": {},
   "outputs": [
    {
     "name": "stdout",
     "output_type": "stream",
     "text": [
      "[0, 2.0, 23, 12.39444915467244, 249, 38.4377516497364, 5769, 135.78364059622126, 288801, 520.7888983093449]\n"
     ]
    }
   ],
   "source": [
    "print(vetor)"
   ]
  },
  {
   "cell_type": "markdown",
   "metadata": {},
   "source": [
    "Questão 3"
   ]
  },
  {
   "cell_type": "code",
   "execution_count": 41,
   "metadata": {},
   "outputs": [],
   "source": [
    "\n",
    "def melhor_aluno(lista_alunos,notas):\n",
    "    dic = {}\n",
    "    for i in range(len(lista_alunos)):\n",
    "        dic[lista_alunos[i]] = notas[i]\n",
    "    print(dic)\n",
    "    melhor_aluno = max(dic, key=dic.get)\n",
    "    return melhor_aluno"
   ]
  },
  {
   "cell_type": "code",
   "execution_count": null,
   "metadata": {},
   "outputs": [],
   "source": []
  },
  {
   "cell_type": "code",
   "execution_count": null,
   "metadata": {},
   "outputs": [],
   "source": []
  },
  {
   "cell_type": "code",
   "execution_count": null,
   "metadata": {},
   "outputs": [],
   "source": []
  }
 ],
 "metadata": {
  "kernelspec": {
   "display_name": "Python 3",
   "language": "python",
   "name": "python3"
  },
  "language_info": {
   "codemirror_mode": {
    "name": "ipython",
    "version": 3
   },
   "file_extension": ".py",
   "mimetype": "text/x-python",
   "name": "python",
   "nbconvert_exporter": "python",
   "pygments_lexer": "ipython3",
   "version": "3.8.3"
  }
 },
 "nbformat": 4,
 "nbformat_minor": 4
}
