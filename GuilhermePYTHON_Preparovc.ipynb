{
 "cells": [
  {
   "cell_type": "markdown",
   "metadata": {},
   "source": [
    "Questão 1 "
   ]
  },
  {
   "cell_type": "code",
   "execution_count": 3,
   "metadata": {},
   "outputs": [],
   "source": [
    "import numpy as np"
   ]
  },
  {
   "cell_type": "code",
   "execution_count": 4,
   "metadata": {},
   "outputs": [],
   "source": [
    "lista = np.arange(1,5000001)"
   ]
  },
  {
   "cell_type": "code",
   "execution_count": 5,
   "metadata": {},
   "outputs": [
    {
     "name": "stdout",
     "output_type": "stream",
     "text": [
      "1378\n"
     ]
    }
   ],
   "source": [
    "contador = 0 \n",
    "resultados = []\n",
    "for i in range(1,len(lista)+1):\n",
    "    if (i % 2) == 0 and (i % 49) == 0 and (i % 37) == 0:\n",
    "        resultados.append(i)\n",
    "        contador +=1\n",
    "print(contador)"
   ]
  },
  {
   "cell_type": "markdown",
   "metadata": {},
   "source": [
    "Questão 2 "
   ]
  },
  {
   "cell_type": "code",
   "execution_count": 6,
   "metadata": {},
   "outputs": [],
   "source": [
    "import math \n",
    "vetor = [0]\n",
    "#o zero eh café com leite\n",
    "for i in range(1,10):\n",
    "    if (i % 2) == 0:\n",
    "        vetor.append(3**i + 7*(math.factorial(i)))\n",
    "    else:\n",
    "        vetor.append(2**i + 4*math.log(i))\n",
    "    "
   ]
  },
  {
   "cell_type": "code",
   "execution_count": 7,
   "metadata": {},
   "outputs": [
    {
     "name": "stdout",
     "output_type": "stream",
     "text": [
      "0.00\n",
      "2.00\n",
      "23.00\n",
      "12.39\n",
      "249.00\n",
      "38.44\n",
      "5769.00\n",
      "135.78\n",
      "288801.00\n",
      "520.79\n"
     ]
    }
   ],
   "source": [
    "for i in vetor:\n",
    "    print(\"{:.2f}\".format(i))"
   ]
  },
  {
   "cell_type": "code",
   "execution_count": 8,
   "metadata": {},
   "outputs": [
    {
     "name": "stdout",
     "output_type": "stream",
     "text": [
      "O maior valor será: 288801.00\n",
      "O valor da média será: 29555.14\n"
     ]
    }
   ],
   "source": [
    "print(\"O maior valor será: {:.2f}\".format(max(vetor)))\n",
    "print(\"O valor da média será: {:.2f}\".format(np.mean(vetor)))"
   ]
  },
  {
   "cell_type": "markdown",
   "metadata": {},
   "source": [
    "Questão 3"
   ]
  },
  {
   "cell_type": "code",
   "execution_count": 9,
   "metadata": {},
   "outputs": [],
   "source": [
    "\n",
    "def melhor_aluno(lista_alunos,notas):\n",
    "    dic = {}\n",
    "    for i in range(len(lista_alunos)):\n",
    "        dic[lista_alunos[i]] = notas[i]\n",
    "    melhor_aluno = max(dic, key=dic.get)\n",
    "    melhor_nota = dic[melhor_aluno]\n",
    "    return dic,melhor_aluno, melhor_nota"
   ]
  }
 ],
 "metadata": {
  "kernelspec": {
   "display_name": "Python 3",
   "language": "python",
   "name": "python3"
  },
  "language_info": {
   "codemirror_mode": {
    "name": "ipython",
    "version": 3
   },
   "file_extension": ".py",
   "mimetype": "text/x-python",
   "name": "python",
   "nbconvert_exporter": "python",
   "pygments_lexer": "ipython3",
   "version": "3.8.3"
  }
 },
 "nbformat": 4,
 "nbformat_minor": 4
}
